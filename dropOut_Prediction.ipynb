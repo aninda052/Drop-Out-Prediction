{
 "cells": [
  {
   "cell_type": "markdown",
   "metadata": {},
   "source": [
    "# Drop Out Prediction\n",
    "\n",
    "\n",
    "***The puspose of this project is to identify a student whether he/she has any tendency to being a drop out .There are 2 class reluler & dropout .The aim is to predict those drop out(true positive) classes.***"
   ]
  },
  {
   "cell_type": "code",
   "execution_count": null,
   "metadata": {},
   "outputs": [],
   "source": [
    "import pandas as pd\n",
    "import numpy as np\n",
    "import matplotlib.pyplot as plt\n",
    "from collections import Counter\n",
    "\n",
    "from sklearn.metrics import classification_report\n",
    "from sklearn.grid_search import GridSearchCV\n",
    "from sklearn.model_selection import train_test_split\n",
    "\n",
    "from sklearn.tree import DecisionTreeClassifier\n",
    "from sklearn.neighbors import KNeighborsClassifier\n",
    "from sklearn.ensemble import RandomForestClassifier\n",
    "\n",
    "from imblearn.over_sampling import SMOTE\n",
    "from sklearn.learning_curve import learning_curve"
   ]
  },
  {
   "cell_type": "code",
   "execution_count": null,
   "metadata": {},
   "outputs": [],
   "source": []
  },
  {
   "cell_type": "code",
   "execution_count": 3,
   "metadata": {},
   "outputs": [],
   "source": [
    "data =pd.read_csv('./cleanData.csv')\n",
    "backUp=data.copy(deep=True)"
   ]
  },
  {
   "cell_type": "code",
   "execution_count": 4,
   "metadata": {},
   "outputs": [
    {
     "data": {
      "text/html": [
       "<div>\n",
       "<style scoped>\n",
       "    .dataframe tbody tr th:only-of-type {\n",
       "        vertical-align: middle;\n",
       "    }\n",
       "\n",
       "    .dataframe tbody tr th {\n",
       "        vertical-align: top;\n",
       "    }\n",
       "\n",
       "    .dataframe thead th {\n",
       "        text-align: right;\n",
       "    }\n",
       "</style>\n",
       "<table border=\"1\" class=\"dataframe\">\n",
       "  <thead>\n",
       "    <tr style=\"text-align: right;\">\n",
       "      <th></th>\n",
       "      <th>new_id</th>\n",
       "      <th>batch</th>\n",
       "      <th>sex</th>\n",
       "      <th>ssctotal</th>\n",
       "      <th>sscyear</th>\n",
       "      <th>hsctotal</th>\n",
       "      <th>hscyear</th>\n",
       "      <th>dif_ssc_hsc</th>\n",
       "      <th>dif_hsc_uni</th>\n",
       "      <th>drop_out</th>\n",
       "      <th>...</th>\n",
       "      <th>semester12_cgpa</th>\n",
       "      <th>semester12_fail</th>\n",
       "      <th>semester13_cgpa</th>\n",
       "      <th>semester13_fail</th>\n",
       "      <th>semester14_cgpa</th>\n",
       "      <th>semester14_fail</th>\n",
       "      <th>semester15_cgpa</th>\n",
       "      <th>semester15_fail</th>\n",
       "      <th>semester16_cgpa</th>\n",
       "      <th>semester16_fail</th>\n",
       "    </tr>\n",
       "  </thead>\n",
       "  <tbody>\n",
       "    <tr>\n",
       "      <th>0</th>\n",
       "      <td>3</td>\n",
       "      <td>20120</td>\n",
       "      <td>male</td>\n",
       "      <td>4.14</td>\n",
       "      <td>2009.0</td>\n",
       "      <td>4.28</td>\n",
       "      <td>2011.0</td>\n",
       "      <td>0</td>\n",
       "      <td>1</td>\n",
       "      <td>reguler</td>\n",
       "      <td>...</td>\n",
       "      <td>2.393478</td>\n",
       "      <td>2</td>\n",
       "      <td>2.462185</td>\n",
       "      <td>2</td>\n",
       "      <td>2.561024</td>\n",
       "      <td>0</td>\n",
       "      <td>2.576087</td>\n",
       "      <td>0</td>\n",
       "      <td>2.576087</td>\n",
       "      <td>0</td>\n",
       "    </tr>\n",
       "    <tr>\n",
       "      <th>1</th>\n",
       "      <td>4</td>\n",
       "      <td>20090</td>\n",
       "      <td>male</td>\n",
       "      <td>4.50</td>\n",
       "      <td>2006.0</td>\n",
       "      <td>3.80</td>\n",
       "      <td>2008.0</td>\n",
       "      <td>0</td>\n",
       "      <td>1</td>\n",
       "      <td>dropOut</td>\n",
       "      <td>...</td>\n",
       "      <td>1.723214</td>\n",
       "      <td>0</td>\n",
       "      <td>1.723214</td>\n",
       "      <td>0</td>\n",
       "      <td>1.723214</td>\n",
       "      <td>0</td>\n",
       "      <td>1.723214</td>\n",
       "      <td>0</td>\n",
       "      <td>1.723214</td>\n",
       "      <td>0</td>\n",
       "    </tr>\n",
       "    <tr>\n",
       "      <th>2</th>\n",
       "      <td>6</td>\n",
       "      <td>20160</td>\n",
       "      <td>female</td>\n",
       "      <td>4.63</td>\n",
       "      <td>2013.0</td>\n",
       "      <td>3.83</td>\n",
       "      <td>2015.0</td>\n",
       "      <td>0</td>\n",
       "      <td>1</td>\n",
       "      <td>reguler</td>\n",
       "      <td>...</td>\n",
       "      <td>2.297872</td>\n",
       "      <td>0</td>\n",
       "      <td>2.297872</td>\n",
       "      <td>0</td>\n",
       "      <td>2.297872</td>\n",
       "      <td>0</td>\n",
       "      <td>2.297872</td>\n",
       "      <td>0</td>\n",
       "      <td>2.297872</td>\n",
       "      <td>0</td>\n",
       "    </tr>\n",
       "    <tr>\n",
       "      <th>3</th>\n",
       "      <td>7</td>\n",
       "      <td>20162</td>\n",
       "      <td>male</td>\n",
       "      <td>5.00</td>\n",
       "      <td>2009.0</td>\n",
       "      <td>5.00</td>\n",
       "      <td>2011.0</td>\n",
       "      <td>0</td>\n",
       "      <td>5</td>\n",
       "      <td>reguler</td>\n",
       "      <td>...</td>\n",
       "      <td>3.363636</td>\n",
       "      <td>0</td>\n",
       "      <td>3.363636</td>\n",
       "      <td>0</td>\n",
       "      <td>3.363636</td>\n",
       "      <td>0</td>\n",
       "      <td>3.363636</td>\n",
       "      <td>0</td>\n",
       "      <td>3.363636</td>\n",
       "      <td>0</td>\n",
       "    </tr>\n",
       "    <tr>\n",
       "      <th>4</th>\n",
       "      <td>10</td>\n",
       "      <td>20161</td>\n",
       "      <td>male</td>\n",
       "      <td>5.00</td>\n",
       "      <td>2012.0</td>\n",
       "      <td>4.10</td>\n",
       "      <td>2014.0</td>\n",
       "      <td>0</td>\n",
       "      <td>2</td>\n",
       "      <td>dropOut</td>\n",
       "      <td>...</td>\n",
       "      <td>1.350000</td>\n",
       "      <td>0</td>\n",
       "      <td>1.350000</td>\n",
       "      <td>0</td>\n",
       "      <td>1.350000</td>\n",
       "      <td>0</td>\n",
       "      <td>1.350000</td>\n",
       "      <td>0</td>\n",
       "      <td>1.350000</td>\n",
       "      <td>0</td>\n",
       "    </tr>\n",
       "  </tbody>\n",
       "</table>\n",
       "<p>5 rows × 42 columns</p>\n",
       "</div>"
      ],
      "text/plain": [
       "   new_id  batch     sex  ssctotal  sscyear  hsctotal  hscyear  dif_ssc_hsc  \\\n",
       "0       3  20120    male      4.14   2009.0      4.28   2011.0            0   \n",
       "1       4  20090    male      4.50   2006.0      3.80   2008.0            0   \n",
       "2       6  20160  female      4.63   2013.0      3.83   2015.0            0   \n",
       "3       7  20162    male      5.00   2009.0      5.00   2011.0            0   \n",
       "4      10  20161    male      5.00   2012.0      4.10   2014.0            0   \n",
       "\n",
       "   dif_hsc_uni drop_out       ...         semester12_cgpa  semester12_fail  \\\n",
       "0            1  reguler       ...                2.393478                2   \n",
       "1            1  dropOut       ...                1.723214                0   \n",
       "2            1  reguler       ...                2.297872                0   \n",
       "3            5  reguler       ...                3.363636                0   \n",
       "4            2  dropOut       ...                1.350000                0   \n",
       "\n",
       "   semester13_cgpa  semester13_fail  semester14_cgpa  semester14_fail  \\\n",
       "0         2.462185                2         2.561024                0   \n",
       "1         1.723214                0         1.723214                0   \n",
       "2         2.297872                0         2.297872                0   \n",
       "3         3.363636                0         3.363636                0   \n",
       "4         1.350000                0         1.350000                0   \n",
       "\n",
       "   semester15_cgpa  semester15_fail  semester16_cgpa  semester16_fail  \n",
       "0         2.576087                0         2.576087                0  \n",
       "1         1.723214                0         1.723214                0  \n",
       "2         2.297872                0         2.297872                0  \n",
       "3         3.363636                0         3.363636                0  \n",
       "4         1.350000                0         1.350000                0  \n",
       "\n",
       "[5 rows x 42 columns]"
      ]
     },
     "execution_count": 4,
     "metadata": {},
     "output_type": "execute_result"
    }
   ],
   "source": [
    "data.head()\n"
   ]
  },
  {
   "cell_type": "code",
   "execution_count": 5,
   "metadata": {},
   "outputs": [
    {
     "data": {
      "text/plain": [
       "(1931, 42)"
      ]
     },
     "execution_count": 5,
     "metadata": {},
     "output_type": "execute_result"
    }
   ],
   "source": [
    "data.shape"
   ]
  },
  {
   "cell_type": "code",
   "execution_count": 6,
   "metadata": {},
   "outputs": [
    {
     "data": {
      "text/plain": [
       "False"
      ]
     },
     "execution_count": 6,
     "metadata": {},
     "output_type": "execute_result"
    }
   ],
   "source": [
    "data.isnull().any().any()"
   ]
  },
  {
   "cell_type": "code",
   "execution_count": 7,
   "metadata": {},
   "outputs": [
    {
     "name": "stdout",
     "output_type": "stream",
     "text": [
      "Index(['new_id', 'batch', 'sex', 'ssctotal', 'sscyear', 'hsctotal', 'hscyear',\n",
      "       'dif_ssc_hsc', 'dif_hsc_uni', 'drop_out', 'semester1_cgpa',\n",
      "       'semester1_fail', 'semester2_cgpa', 'semester2_fail', 'semester3_cgpa',\n",
      "       'semester3_fail', 'semester4_cgpa', 'semester4_fail', 'semester5_cgpa',\n",
      "       'semester5_fail', 'semester6_cgpa', 'semester6_fail', 'semester7_cgpa',\n",
      "       'semester7_fail', 'semester8_cgpa', 'semester8_fail', 'semester9_cgpa',\n",
      "       'semester9_fail', 'semester10_cgpa', 'semester10_fail',\n",
      "       'semester11_cgpa', 'semester11_fail', 'semester12_cgpa',\n",
      "       'semester12_fail', 'semester13_cgpa', 'semester13_fail',\n",
      "       'semester14_cgpa', 'semester14_fail', 'semester15_cgpa',\n",
      "       'semester15_fail', 'semester16_cgpa', 'semester16_fail'],\n",
      "      dtype='object')\n"
     ]
    }
   ],
   "source": [
    "print(data.columns)"
   ]
  },
  {
   "cell_type": "code",
   "execution_count": 8,
   "metadata": {},
   "outputs": [],
   "source": [
    "Class=data['drop_out'].copy(deep=True)\n",
    "data['sex'] = (data['sex']=='male')*1"
   ]
  },
  {
   "cell_type": "code",
   "execution_count": 9,
   "metadata": {},
   "outputs": [],
   "source": [
    "data=data.drop(['new_id', 'batch','sscyear','hscyear','drop_out'],axis=1)\n"
   ]
  },
  {
   "cell_type": "code",
   "execution_count": 10,
   "metadata": {},
   "outputs": [
    {
     "data": {
      "text/plain": [
       "(1931, 37)"
      ]
     },
     "execution_count": 10,
     "metadata": {},
     "output_type": "execute_result"
    }
   ],
   "source": [
    "data.shape"
   ]
  },
  {
   "cell_type": "code",
   "execution_count": 11,
   "metadata": {},
   "outputs": [
    {
     "name": "stdout",
     "output_type": "stream",
     "text": [
      "Counter({'reguler': 1534, 'dropOut': 397})\n"
     ]
    },
    {
     "data": {
      "image/png": "[encoded data removed]",
      "text/plain": [
       "<matplotlib.figure.Figure at 0x7f6a43344be0>"
      ]
     },
     "metadata": {},
     "output_type": "display_data"
    }
   ],
   "source": [
    "x=Counter(Class)\n",
    "print(x)\n",
    "lab=x.keys()\n",
    "val=x.values()\n",
    "exp=[0,0.08]\n",
    "\n",
    "fig1, ax1 = plt.subplots()\n",
    "ax1.pie(val, explode=exp, labels=lab, autopct='%1.1f%%',shadow=True, startangle=180)\n",
    "ax1.axis('equal') \n",
    "plt.show()"
   ]
  },
  {
   "cell_type": "markdown",
   "metadata": {},
   "source": [
    "**From the pie chart it's clear that it's a imbalanced dataset with 4:1 ratio . So we want to do resampling the data set.As it's a small dataset so we want to do over-sampling the minority class by using SMOTE or the Synthetic Minority Over-sampling Technique.**"
   ]
  },
  {
   "cell_type": "code",
   "execution_count": 17,
   "metadata": {},
   "outputs": [
    {
     "name": "stdout",
     "output_type": "stream",
     "text": [
      "Counter({'dropOut': 1534, 'reguler': 1534})\n"
     ]
    }
   ],
   "source": [
    "sm=SMOTE(ratio='minority',random_state=1,k_neighbors=8,m_neighbors=18)\n",
    "data_sm,Class_sm = sm.fit_sample(data,Class)\n",
    "print(Counter(Class_sm))"
   ]
  },
  {
   "cell_type": "code",
   "execution_count": 128,
   "metadata": {},
   "outputs": [],
   "source": []
  },
  {
   "cell_type": "code",
   "execution_count": 13,
   "metadata": {},
   "outputs": [],
   "source": [
    "\n",
    "X_train, X_test, y_train, y_test = train_test_split(data_sm,Class_sm, test_size=0.33, random_state=324)"
   ]
  },
  {
   "cell_type": "code",
   "execution_count": 14,
   "metadata": {},
   "outputs": [],
   "source": [
    "def Learning_curve(model,name):\n",
    "\n",
    "    train_sizes, train_scores, test_scores = learning_curve(model, X_train, y_train, \n",
    "                        n_jobs=-1, cv=5, train_sizes=np.linspace(.1, 1.0, 5), verbose=0)\n",
    "    train_scores_mean = np.mean(train_scores, axis=1)\n",
    "    train_scores_std = np.std(train_scores, axis=1)\n",
    "    test_scores_mean = np.mean(test_scores, axis=1)\n",
    "    test_scores_std = np.std(test_scores, axis=1)\n",
    "    \n",
    "    plt.figure()\n",
    "    plt.title(name)\n",
    "    plt.legend(loc=\"best\")\n",
    "    plt.xlabel(\"Training examples\")\n",
    "    plt.ylabel(\"Score\")\n",
    "    plt.gca().invert_yaxis()\n",
    "    plt.grid()\n",
    "    \n",
    "    plt.fill_between(train_sizes, train_scores_mean - train_scores_std, train_scores_mean + train_scores_std, alpha=0.1, color=\"r\")\n",
    "    plt.fill_between(train_sizes, test_scores_mean - test_scores_std, test_scores_mean + test_scores_std, alpha=0.1, color=\"g\")\n",
    "    \n",
    "    plt.plot(train_sizes, train_scores_mean, 'o-', color=\"r\", label=\"Training score\")\n",
    "    plt.plot(train_sizes, test_scores_mean, 'o-', color=\"g\", label=\"Cross-validation score\")\n",
    "    \n",
    "    plt.ylim(-.1,1.1)\n",
    "    plt.show()\n",
    "\n",
    "    #plot_curve()"
   ]
  },
  {
   "cell_type": "markdown",
   "metadata": {},
   "source": [
    "**Here our y-axis is 'score', not 'error', so the higher the score, the better the performance of the model.**\n",
    "\n",
    "**High Bias**\n",
    "\n",
    "Training score (red line) decreases and plateau\n",
    "   * Indicates underfitting\n",
    "   * High bias\n",
    "   \n",
    "Cross-validation score (green line) stagnating throughout\n",
    "   * Unable to learn from data\n",
    "   \n",
    "Low scores (high errors)\n",
    "\n",
    "    \n",
    "**High Variance**\n",
    "\n",
    "Training score (red line) is at its maximum regardless of training examples\n",
    "   * Indicates overfitting\n",
    "   \n",
    "Huge gap between cross-validation score and training score \n",
    "   * Indicates high variance scenario(overfitting)\n",
    " "
   ]
  },
  {
   "cell_type": "markdown",
   "metadata": {},
   "source": [
    "# KN-Neighbors"
   ]
  },
  {
   "cell_type": "code",
   "execution_count": 209,
   "metadata": {},
   "outputs": [
    {
     "data": {
      "text/plain": [
       "([<matplotlib.axis.XTick at 0x7f33890b0128>,\n",
       "  <matplotlib.axis.XTick at 0x7f3398ad6cf8>,\n",
       "  <matplotlib.axis.XTick at 0x7f338919a780>,\n",
       "  <matplotlib.axis.XTick at 0x7f33980709b0>,\n",
       "  <matplotlib.axis.XTick at 0x7f3398c51b38>],\n",
       " <a list of 5 Text xticklabel objects>)"
      ]
     },
     "execution_count": 209,
     "metadata": {},
     "output_type": "execute_result"
    },
    {
     "data": {
      "image/png": "[encoded data removed]",
      "text/plain": [
       "<matplotlib.figure.Figure at 0x7f33984d12b0>"
      ]
     },
     "metadata": {},
     "output_type": "display_data"
    }
   ],
   "source": [
    "k_range = range(1, 20)\n",
    "scores = []\n",
    "best_score=0\n",
    "for k in k_range:\n",
    "    knn_model = KNeighborsClassifier(n_neighbors=k,algorithm='auto',n_jobs=-1)\n",
    "    tmp_model=knn_model.fit(X_train, y_train)\n",
    "    tmp=knn_model.score(X_test, y_test)\n",
    "    if best_score<tmp:\n",
    "        best_score=tmp\n",
    "        best_model=tmp_model\n",
    "    scores.append(tmp)\n",
    "plt.figure()\n",
    "plt.xlabel('Neighbors')\n",
    "plt.ylabel('Accuracy')\n",
    "plt.scatter(k_range, scores)\n",
    "plt.xticks([0,5,10,15,20])"
   ]
  },
  {
   "cell_type": "code",
   "execution_count": 131,
   "metadata": {},
   "outputs": [
    {
     "name": "stdout",
     "output_type": "stream",
     "text": [
      "Accuracy: 90.03\n"
     ]
    }
   ],
   "source": [
    "print('Accuracy: %.2f'%((best_score*100)))"
   ]
  },
  {
   "cell_type": "code",
   "execution_count": 211,
   "metadata": {},
   "outputs": [
    {
     "data": {
      "image/png": "[encoded data removed]",
      "text/plain": [
       "<matplotlib.figure.Figure at 0x7f33890abcf8>"
      ]
     },
     "metadata": {},
     "output_type": "display_data"
    }
   ],
   "source": [
    "Learning_curve(best_model,'KN-Neighbors')"
   ]
  },
  {
   "cell_type": "markdown",
   "metadata": {},
   "source": [
    "**As we can see the training score (red line) is at its maximum regardless of training examples which Indicates overfitting.**"
   ]
  },
  {
   "cell_type": "code",
   "execution_count": 132,
   "metadata": {},
   "outputs": [
    {
     "name": "stdout",
     "output_type": "stream",
     "text": [
      "Predicted  dropOut  reguler   All\n",
      "Actual                           \n",
      "dropOut        487       20   507\n",
      "reguler         81      425   506\n",
      "All            568      445  1013\n"
     ]
    }
   ],
   "source": [
    "predictions =best_model.predict(X_test)\n",
    "print(pd.crosstab(y_test, predictions, colnames=['Predicted'],rownames=['Actual'],margins=True))"
   ]
  },
  {
   "cell_type": "code",
   "execution_count": 133,
   "metadata": {},
   "outputs": [
    {
     "name": "stdout",
     "output_type": "stream",
     "text": [
      "             precision    recall  f1-score   support\n",
      "\n",
      "    dropOut       0.96      0.86      0.91       568\n",
      "    reguler       0.84      0.96      0.89       445\n",
      "\n",
      "avg / total       0.91      0.90      0.90      1013\n",
      "\n"
     ]
    }
   ],
   "source": [
    "print(classification_report(predictions, y_test))"
   ]
  },
  {
   "cell_type": "markdown",
   "metadata": {},
   "source": [
    "# Decision Tree"
   ]
  },
  {
   "cell_type": "code",
   "execution_count": 21,
   "metadata": {},
   "outputs": [
    {
     "ename": "NameError",
     "evalue": "name 'model' is not defined",
     "output_type": "error",
     "traceback": [
      "\u001b[0;31m---------------------------------------------------------------------------\u001b[0m",
      "\u001b[0;31mNameError\u001b[0m                                 Traceback (most recent call last)",
      "\u001b[0;32m<ipython-input-21-e99e55698d59>\u001b[0m in \u001b[0;36m<module>\u001b[0;34m()\u001b[0m\n\u001b[1;32m      9\u001b[0m \u001b[0mdt_model\u001b[0m\u001b[0;34m=\u001b[0m \u001b[0mGridSearchCV\u001b[0m\u001b[0;34m(\u001b[0m\u001b[0mestimator\u001b[0m\u001b[0;34m=\u001b[0m\u001b[0mclassifier\u001b[0m\u001b[0;34m,\u001b[0m\u001b[0mparam_grid\u001b[0m\u001b[0;34m=\u001b[0m\u001b[0mparameters\u001b[0m\u001b[0;34m,\u001b[0m\u001b[0mcv\u001b[0m\u001b[0;34m=\u001b[0m\u001b[0;36m5\u001b[0m\u001b[0;34m)\u001b[0m\u001b[0;34m\u001b[0m\u001b[0m\n\u001b[1;32m     10\u001b[0m \u001b[0mdt_model\u001b[0m\u001b[0;34m.\u001b[0m\u001b[0mfit\u001b[0m\u001b[0;34m(\u001b[0m\u001b[0mX_train\u001b[0m\u001b[0;34m,\u001b[0m \u001b[0my_train\u001b[0m\u001b[0;34m)\u001b[0m\u001b[0;34m\u001b[0m\u001b[0m\n\u001b[0;32m---> 11\u001b[0;31m \u001b[0mprint\u001b[0m\u001b[0;34m(\u001b[0m\u001b[0;34m'Accuracy: %.2f'\u001b[0m\u001b[0;34m%\u001b[0m\u001b[0;34m(\u001b[0m\u001b[0;34m(\u001b[0m\u001b[0mmodel\u001b[0m\u001b[0;34m.\u001b[0m\u001b[0mscore\u001b[0m\u001b[0;34m(\u001b[0m\u001b[0mX_test\u001b[0m\u001b[0;34m,\u001b[0m\u001b[0my_test\u001b[0m\u001b[0;34m)\u001b[0m\u001b[0;34m*\u001b[0m\u001b[0;36m100\u001b[0m\u001b[0;34m)\u001b[0m\u001b[0;34m)\u001b[0m\u001b[0;34m)\u001b[0m\u001b[0;34m\u001b[0m\u001b[0m\n\u001b[0m",
      "\u001b[0;31mNameError\u001b[0m: name 'model' is not defined"
     ]
    }
   ],
   "source": [
    "parameters={\"max_depth\": [10,11,12,13,14]\n",
    "            ,\"min_samples_split\" :[4,5,6,7,8]\n",
    "            ,\"min_samples_leaf\": [16,17,18]\n",
    "            ,\"max_features\": (4,5,6,\"sqrt\",\"auto\")\n",
    "            ,\"criterion\": ('gini','entropy')}\n",
    "\n",
    "\n",
    "classifier = DecisionTreeClassifier(random_state=5)\n",
    "dt_model= GridSearchCV(estimator=classifier,param_grid=parameters,cv=5)  \n",
    "dt_model.fit(X_train, y_train)\n",
    "print('Accuracy: %.2f'%((model.score(X_test,y_test)*100)))"
   ]
  },
  {
   "cell_type": "code",
   "execution_count": 16,
   "metadata": {},
   "outputs": [
    {
     "data": {
      "image/png": "[encoded data removed]",
      "text/plain": [
       "<matplotlib.figure.Figure at 0x7f6a3e250dd8>"
      ]
     },
     "metadata": {},
     "output_type": "display_data"
    }
   ],
   "source": [
    "Learning_curve(dt_model,'Decision Tree')"
   ]
  },
  {
   "cell_type": "code",
   "execution_count": 18,
   "metadata": {},
   "outputs": [
    {
     "data": {
      "text/plain": [
       "{'criterion': 'entropy',\n",
       " 'max_depth': 12,\n",
       " 'max_features': 6,\n",
       " 'min_samples_leaf': 17,\n",
       " 'min_samples_split': 4}"
      ]
     },
     "execution_count": 18,
     "metadata": {},
     "output_type": "execute_result"
    }
   ],
   "source": [
    "dt_model.best_params_"
   ]
  },
  {
   "cell_type": "code",
   "execution_count": 19,
   "metadata": {},
   "outputs": [
    {
     "name": "stdout",
     "output_type": "stream",
     "text": [
      "Predicted  dropOut  reguler   All\n",
      "Actual                           \n",
      "dropOut        431       76   507\n",
      "reguler         75      431   506\n",
      "All            506      507  1013\n"
     ]
    }
   ],
   "source": [
    "predictions =dt_model.predict(X_test)\n",
    "print(pd.crosstab(y_test, predictions, colnames=['Predicted'],rownames=['Actual'],margins=True))"
   ]
  },
  {
   "cell_type": "code",
   "execution_count": 20,
   "metadata": {},
   "outputs": [
    {
     "name": "stdout",
     "output_type": "stream",
     "text": [
      "             precision    recall  f1-score   support\n",
      "\n",
      "    dropOut       0.85      0.85      0.85       506\n",
      "    reguler       0.85      0.85      0.85       507\n",
      "\n",
      "avg / total       0.85      0.85      0.85      1013\n",
      "\n"
     ]
    }
   ],
   "source": [
    "print(classification_report(predictions, y_test))"
   ]
  },
  {
   "cell_type": "markdown",
   "metadata": {},
   "source": [
    "**From the classification report we find that the precision of drop out and reguler are both 85%, and the learning curve neither showing overfitting nor underfitting**"
   ]
  },
  {
   "cell_type": "markdown",
   "metadata": {},
   "source": [
    "# Random Forest"
   ]
  },
  {
   "cell_type": "code",
   "execution_count": 217,
   "metadata": {},
   "outputs": [
    {
     "name": "stdout",
     "output_type": "stream",
     "text": [
      "Accuracy: 91.51\n"
     ]
    }
   ],
   "source": [
    "parameters={\"max_depth\": [10,11,12,13,14,15]\n",
    "            ,\"min_samples_split\" :[2,3,4,5,6]\n",
    "            ,\"min_samples_leaf\": [16,17,18]\n",
    "            ,\"n_estimators\" : [25]\n",
    "            ,\"max_features\": (4,5,6,\"sqrt\",\"auto\")\n",
    "            ,\"criterion\": ('gini','entropy')}\n",
    "\n",
    "classifier = RandomForestClassifier( n_jobs=-1,random_state=5,oob_score =True)\n",
    "\n",
    "rf_model= GridSearchCV(estimator=classifier,param_grid=parameters,cv=5)  \n",
    "rf_model.fit(X_train, y_train)\n",
    "print('Accuracy: %.2f'%((model.score(X_test,y_test)*100)))"
   ]
  },
  {
   "cell_type": "code",
   "execution_count": 220,
   "metadata": {
    "scrolled": true
   },
   "outputs": [
    {
     "data": {
      "image/png": "[encoded data removed]",
      "text/plain": [
       "<matplotlib.figure.Figure at 0x7f3398f79550>"
      ]
     },
     "metadata": {},
     "output_type": "display_data"
    }
   ],
   "source": [
    "Learning_curve(rf_model,'Random Forest')"
   ]
  },
  {
   "cell_type": "code",
   "execution_count": 227,
   "metadata": {},
   "outputs": [
    {
     "data": {
      "text/plain": [
       "{'criterion': 'gini',\n",
       " 'max_depth': 13,\n",
       " 'max_features': 5,\n",
       " 'min_samples_leaf': 16,\n",
       " 'min_samples_split': 2,\n",
       " 'n_estimators': 25}"
      ]
     },
     "execution_count": 227,
     "metadata": {},
     "output_type": "execute_result"
    }
   ],
   "source": [
    "rf_model.best_params_"
   ]
  },
  {
   "cell_type": "code",
   "execution_count": 224,
   "metadata": {},
   "outputs": [
    {
     "name": "stdout",
     "output_type": "stream",
     "text": [
      "Predicted  dropOut  reguler   All\n",
      "Actual                           \n",
      "dropOut        419       88   507\n",
      "reguler         47      459   506\n",
      "All            466      547  1013\n"
     ]
    }
   ],
   "source": [
    "predictions =rf_model.predict(X_test)\n",
    "print(pd.crosstab(y_test, predictions, colnames=['Predicted'],rownames=['Actual'],margins=True))"
   ]
  },
  {
   "cell_type": "code",
   "execution_count": 225,
   "metadata": {},
   "outputs": [
    {
     "name": "stdout",
     "output_type": "stream",
     "text": [
      "             precision    recall  f1-score   support\n",
      "\n",
      "    dropOut       0.83      0.90      0.86       466\n",
      "    reguler       0.91      0.84      0.87       547\n",
      "\n",
      "avg / total       0.87      0.87      0.87      1013\n",
      "\n"
     ]
    }
   ],
   "source": [
    "print(classification_report(predictions, y_test))"
   ]
  },
  {
   "cell_type": "markdown",
   "metadata": {},
   "source": [
    "**From the classification report we find that the precision of drop out is 83% and reguler is 91%, and the learning curve neither showing overfitting nor underfitting**\n",
    "\n",
    "\n",
    "\n",
    "\n"
   ]
  },
  {
   "cell_type": "markdown",
   "metadata": {},
   "source": [
    "***From the avobe three models KNN classifier will make more accurate true positive predictions in the sample data, but the model may not generalize well in the real world .Decision Tree & Random Forest both are showing good result . As decision tree is showing more acuracy (in term of drop out precision) than random forest ,Decision Tree would be best choice for this  problem .***"
   ]
  },
  {
   "cell_type": "code",
   "execution_count": null,
   "metadata": {},
   "outputs": [],
   "source": []
  }
 ],
 "metadata": {
  "kernelspec": {
   "display_name": "Python 3",
   "language": "python",
   "name": "python3"
  },
  "language_info": {
   "codemirror_mode": {
    "name": "ipython",
    "version": 3
   },
   "file_extension": ".py",
   "mimetype": "text/x-python",
   "name": "python",
   "nbconvert_exporter": "python",
   "pygments_lexer": "ipython3",
   "version": "3.5.4"
  }
 },
 "nbformat": 4,
 "nbformat_minor": 2
}
